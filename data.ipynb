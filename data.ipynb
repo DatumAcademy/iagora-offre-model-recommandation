{
 "cells": [
  {
   "cell_type": "code",
   "execution_count": 42,
   "metadata": {},
   "outputs": [],
   "source": [
    "from flask import Flask, request, jsonify\n",
    "import requests\n",
    "import numpy as np\n",
    "import pandas as pd\n",
    "from sklearn.metrics.pairwise import cosine_similarity\n",
    "import threading"
   ]
  },
  {
   "cell_type": "code",
   "execution_count": 43,
   "metadata": {},
   "outputs": [],
   "source": [
    "app = Flask(__name__)"
   ]
  },
  {
   "cell_type": "code",
   "execution_count": 44,
   "metadata": {},
   "outputs": [],
   "source": [
    "API_URL = \"https://iagora-offre-serveur.onrender.com/OffreServeur\""
   ]
  },
  {
   "cell_type": "code",
   "execution_count": 45,
   "metadata": {},
   "outputs": [
    {
     "name": "stdout",
     "output_type": "stream",
     "text": [
      "<function get_students at 0x000002A54A998B80>\n"
     ]
    }
   ],
   "source": [
    "def get_offers():\n",
    "    offers_response = requests.get(f\"{API_URL}/search\")\n",
    "    if offers_response.status_code == 200:\n",
    "        return offers_response.json()['data']['offers']\n",
    "    else:\n",
    "        return []\n",
    "    \n",
    "\n",
    "def get_students():\n",
    "    students_response = requests.get(f\"{API_URL}/student/list/listStudent/getAll\")\n",
    "    if students_response.status_code == 200:\n",
    "        return students_response.json()['students']\n",
    "    else:\n",
    "        return []\n",
    "    \n",
    "\n",
    "print(get_students)"
   ]
  },
  {
   "cell_type": "code",
   "execution_count": 46,
   "metadata": {},
   "outputs": [],
   "source": [
    "def extract_skills_vector(skills_list, all_skills):\n",
    "    vector = [1 if skill in skills_list else 0 for skill in all_skills]\n",
    "    return vector\n",
    "\n",
    "\n",
    "def experience_similarity(student_exp, offer_min_exp):\n",
    "    if student_exp >= offer_min_exp:\n",
    "        return 1\n",
    "    else:\n",
    "        return student_exp / offer_min_exp\n",
    "    \n",
    "\n",
    "def language_similarity(student_lang, offer_lang):\n",
    "    return 1 if student_lang == offer_lang else 0\n",
    "\n",
    "\n",
    "def contract_similarity(student_contract_pref, offer_contract):\n",
    "    return 1 if student_contract_pref == offer_contract else 0"
   ]
  },
  {
   "cell_type": "code",
   "execution_count": 47,
   "metadata": {},
   "outputs": [],
   "source": [
    "@app.route('/recommander', methods=['GET'])\n",
    "def recommander():\n",
    "    student_id = request.args.get('student_id')\n",
    "\n",
    "    if not student_id:\n",
    "        return jsonify({\"error\": \"student_id est requis\"}), 400\n",
    "\n",
    "    student_id = int(student_id)\n",
    "    offres = get_offers()\n",
    "    etudiants = get_students()\n",
    "\n",
    "    toutes_les_competences = set()\n",
    "    for offre in offres:\n",
    "        competences_offre = offre['skills'].split(\", \")\n",
    "        toutes_les_competences.update(competences_offre)\n",
    "\n",
    "    for etudiant in etudiants:\n",
    "        competences_etudiant = etudiant['skills']\n",
    "        toutes_les_competences.update(competences_etudiant)\n",
    "\n",
    "    toutes_les_competences = list(toutes_les_competences)\n",
    "\n",
    "    donnees_etudiants = []\n",
    "    for etudiant in etudiants:\n",
    "        vecteur_competences_etudiant = extract_skills_vector(etudiant['skills'], toutes_les_competences)\n",
    "        donnees_etudiants.append({\n",
    "            \"numETU\": etudiant['numETU'],\n",
    "            \"nom\": f\"{etudiant['first_name']} {etudiant['last_name']}\",\n",
    "            \"vecteur_competences\": vecteur_competences_etudiant,\n",
    "            \"experience\": etudiant['experience'][0]['yearsexperience'] if etudiant['experience'] else 0,\n",
    "            \"langue\": etudiant['language'][0]['label'] if etudiant['language'] else \"Non spécifié\"\n",
    "        })\n",
    "\n",
    "    donnees_offres = []\n",
    "    for offre in offres:\n",
    "        vecteur_competences_offre = extract_skills_vector(offre['skills'].split(\", \"), toutes_les_competences)\n",
    "        donnees_offres.append({\n",
    "            \"offer_id\": offre['id'],\n",
    "            \"label\": offre['label'],\n",
    "            \"entreprise\": offre['company'],\n",
    "            \"vecteur_competences\": vecteur_competences_offre,\n",
    "            \"experience_min\": offre['minexperience'],\n",
    "            \"langue\": offre['language']['label'],\n",
    "            \"contrat\": offre['contract']\n",
    "        })\n",
    "\n",
    "    etudiants_df = pd.DataFrame(donnees_etudiants)\n",
    "    offres_df = pd.DataFrame(donnees_offres)\n",
    "\n",
    "    print(etudiants_df.columns)\n",
    "    \n",
    "    donnees_etudiant = etudiants_df[etudiants_df['numETU'] == student_id]\n",
    "    if donnees_etudiant.empty:\n",
    "        return jsonify({\"error\": \"Étudiant non trouvé\"}), 404\n",
    "\n",
    "    vecteur_competences_etudiant = np.array(donnees_etudiant['vecteur_competences'].tolist())\n",
    "    experience_etudiant = donnees_etudiant['experience'].values[0]\n",
    "    langue_etudiant = donnees_etudiant['langue'].values[0]\n",
    "\n",
    "    matrice_competences_offres = np.array(offres_df['vecteur_competences'].tolist())\n",
    "    similarite_competences = cosine_similarity(vecteur_competences_etudiant, matrice_competences_offres)\n",
    "\n",
    "    similarite_experience = offres_df['experience_min'].apply(lambda x: experience_similarity(experience_etudiant, x)).values\n",
    "    similarite_langue = offres_df['langue'].apply(lambda x: language_similarity(langue_etudiant, x)).values\n",
    "    similarite_contrat = offres_df['contrat'].apply(lambda x: contract_similarity(\"Stagiaire\", x)).values\n",
    "\n",
    "    score_total = 0.4 * similarite_competences[0] + 0.3 * similarite_experience + 0.2 * similarite_langue + 0.1 * similarite_contrat\n",
    "    \n",
    "    meilleures_offres = offres_df.loc[np.argsort(-score_total)[:5], ['label', 'entreprise']]\n",
    "\n",
    "    return jsonify({\n",
    "        \"student_id\": student_id,\n",
    "        \"recommendations\": meilleures_offres.to_dict(orient=\"records\")\n",
    "    })"
   ]
  },
  {
   "cell_type": "code",
   "execution_count": 48,
   "metadata": {},
   "outputs": [
    {
     "name": "stdout",
     "output_type": "stream",
     "text": [
      " * Serving Flask app '__main__'\n",
      " * Debug mode: off\n"
     ]
    },
    {
     "name": "stderr",
     "output_type": "stream",
     "text": [
      "WARNING: This is a development server. Do not use it in a production deployment. Use a production WSGI server instead.\n",
      " * Running on all addresses (0.0.0.0)\n",
      " * Running on http://127.0.0.1:5000\n",
      " * Running on http://192.168.88.251:5000\n",
      "Press CTRL+C to quit\n"
     ]
    },
    {
     "name": "stderr",
     "output_type": "stream",
     "text": [
      "127.0.0.1 - - [12/Sep/2024 18:04:03] \"GET /recommander?student_id=1545 HTTP/1.1\" 200 -\n"
     ]
    },
    {
     "name": "stdout",
     "output_type": "stream",
     "text": [
      "Index(['numETU', 'nom', 'vecteur_competences', 'experience', 'langue'], dtype='object')\n"
     ]
    },
    {
     "name": "stderr",
     "output_type": "stream",
     "text": [
      "127.0.0.1 - - [12/Sep/2024 18:04:11] \"GET /recommander?student_id=1534 HTTP/1.1\" 200 -\n"
     ]
    },
    {
     "name": "stdout",
     "output_type": "stream",
     "text": [
      "Index(['numETU', 'nom', 'vecteur_competences', 'experience', 'langue'], dtype='object')\n"
     ]
    }
   ],
   "source": [
    "def run_app():\n",
    "    app.run(host='0.0.0.0', port=5000)\n",
    "\n",
    "thread = threading.Thread(target=run_app)\n",
    "thread.start()"
   ]
  }
 ],
 "metadata": {
  "kernelspec": {
   "display_name": "Python 3",
   "language": "python",
   "name": "python3"
  },
  "language_info": {
   "codemirror_mode": {
    "name": "ipython",
    "version": 3
   },
   "file_extension": ".py",
   "mimetype": "text/x-python",
   "name": "python",
   "nbconvert_exporter": "python",
   "pygments_lexer": "ipython3",
   "version": "3.10.11"
  }
 },
 "nbformat": 4,
 "nbformat_minor": 2
}
